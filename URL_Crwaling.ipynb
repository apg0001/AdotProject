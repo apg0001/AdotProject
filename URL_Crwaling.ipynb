{
 "cells": [
  {
   "cell_type": "code",
   "execution_count": 1,
   "id": "ecbc5162",
   "metadata": {},
   "outputs": [],
   "source": [
    "import pandas as pd\n",
    "from bs4 import BeautifulSoup as bs\n",
    "import requests"
   ]
  },
  {
   "cell_type": "code",
   "execution_count": 2,
   "id": "6d97eab3",
   "metadata": {},
   "outputs": [],
   "source": [
    "#403 에러 방지\n",
    "headers={\"User-Agent\":\"Mozilla/5.0 (Macintosh; Intel Mac OS X 10_15_7) AppleWebKit/537.36 (KHTML, like Gecko) Chrome/117.0.0.0 Safari/537.36\"}"
   ]
  },
  {
   "cell_type": "code",
   "execution_count": null,
   "id": "d2f1423c",
   "metadata": {},
   "outputs": [],
   "source": [
    "cat = {'반팔' : '001001'}\n",
    "selected_cat = '반팔'\n",
    "url_list=[]\n",
    "\n",
    "start = 1\n",
    "\n",
    "#url = 'https://www.musinsa.com/categories/item/' + cat[selected_cat]\n",
    "\n",
    "while start < 100:\n",
    "    url='https://www.musinsa.com/categories/item/{}?d_cat_cd={}&brand=&list_kind=small&sort=pop_category&sub_sort=&page={}&display_cnt=90&group_sale=&exclusive_yn=&sale_goods=&timesale_yn=&ex_soldout=&plusDeliveryYn=&kids=&color=&price1=&price2=&shoeSizeOption=&tags=&campaign_id=&includeKeywords=&measure='.format(cat[selected_cat], cat[selected_cat], start)\n",
    "    print(url)\n",
    "    \n",
    "    page = requests.get(url, headers = headers)\n",
    "    soup = bs(page.text, 'lxml')\n",
    "\n",
    "    for soup in soup.find_all('a', attrs={'class':'img-block'}):\n",
    "        url_list.append('https:'+soup['href'])\n",
    "    \n",
    "    print(start, \" / 100\")\n",
    "    start += 1"
   ]
  },
  {
   "cell_type": "code",
   "execution_count": null,
   "id": "cc0ca204",
   "metadata": {},
   "outputs": [],
   "source": [
    "#카테고리별 크롤링한 url 저장\n",
    "\n",
    "df = pd.DataFrame({'url':url_list})\n",
    "file_name = selected_cat+'_url_list.csv'\n",
    "df.to_csv(file_name)"
   ]
  },
  {
   "cell_type": "code",
   "execution_count": null,
   "id": "b2b400e5",
   "metadata": {
    "scrolled": true
   },
   "outputs": [],
   "source": [
    "#csv 파일 읽기\n",
    "\n",
    "file_name = selected_cat+'_url_list.csv'\n",
    "data = pd.read_csv(file_name, names=['name', 'url'])\n",
    "urls=data['url'].values\n",
    "print(urls.shape, urls)"
   ]
  },
  {
   "cell_type": "code",
   "execution_count": null,
   "id": "e0bac85a",
   "metadata": {},
   "outputs": [],
   "source": [
    "for i in range(1, len(urls)):\n",
    "    print(\"#: {} URL: {}\".format(i, urls[i]))\n",
    "    url = urls[i]\n",
    "    page = requests.get(url, headers = headers)\n",
    "    soup = bs(page.text, 'lxml')\n",
    "    soup.find_all(attrs={'class':'table_th_grey'})\n",
    "    print(soup)"
   ]
  },
  {
   "cell_type": "code",
   "execution_count": null,
   "id": "d81e7a2c",
   "metadata": {},
   "outputs": [],
   "source": []
  },
  {
   "cell_type": "code",
   "execution_count": null,
   "id": "b60b4e2d",
   "metadata": {},
   "outputs": [],
   "source": []
  },
  {
   "cell_type": "code",
   "execution_count": null,
   "id": "4ff0032a",
   "metadata": {},
   "outputs": [],
   "source": []
  },
  {
   "cell_type": "code",
   "execution_count": null,
   "id": "4d3db282",
   "metadata": {},
   "outputs": [],
   "source": []
  }
 ],
 "metadata": {
  "kernelspec": {
   "display_name": "Python 3 (ipykernel)",
   "language": "python",
   "name": "python3"
  },
  "language_info": {
   "codemirror_mode": {
    "name": "ipython",
    "version": 3
   },
   "file_extension": ".py",
   "mimetype": "text/x-python",
   "name": "python",
   "nbconvert_exporter": "python",
   "pygments_lexer": "ipython3",
   "version": "3.11.5"
  },
  "varInspector": {
   "cols": {
    "lenName": 16,
    "lenType": 16,
    "lenVar": 40
   },
   "kernels_config": {
    "python": {
     "delete_cmd_postfix": "",
     "delete_cmd_prefix": "del ",
     "library": "var_list.py",
     "varRefreshCmd": "print(var_dic_list())"
    },
    "r": {
     "delete_cmd_postfix": ") ",
     "delete_cmd_prefix": "rm(",
     "library": "var_list.r",
     "varRefreshCmd": "cat(var_dic_list()) "
    }
   },
   "types_to_exclude": [
    "module",
    "function",
    "builtin_function_or_method",
    "instance",
    "_Feature"
   ],
   "window_display": false
  }
 },
 "nbformat": 4,
 "nbformat_minor": 5
}
