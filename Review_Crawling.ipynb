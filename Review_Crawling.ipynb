{
 "cells": [
  {
   "cell_type": "code",
   "execution_count": 1,
   "metadata": {},
   "outputs": [],
   "source": [
    "import pandas as pd\n",
    "from bs4 import BeautifulSoup as bs\n",
    "import requests\n",
    "#표를 불러오기 위한 라이브러리\n",
    "from html_table_parser import parser_functions as parser\n",
    "import collections\n",
    "collections.Callable = collections.abc.Callable\n",
    "#403 에러 방지\n",
    "headers={\"User-Agent\":\"Mozilla/5.0 (Macintosh; Intel Mac OS X 10_15_7) AppleWebKit/537.36 (KHTML, like Gecko) Chrome/117.0.0.0 Safari/537.36\"}"
   ]
  },
  {
   "cell_type": "code",
   "execution_count": null,
   "metadata": {},
   "outputs": [],
   "source": [
    "#csv 파일 읽기\n",
    "\n",
    "file_name = '반팔'+'_url_list.csv'\n",
    "data = pd.read_csv(file_name, names=['name', 'url'])\n",
    "urls=data['url'].values\n",
    "print(urls.shape, urls)"
   ]
  },
  {
   "cell_type": "code",
   "execution_count": null,
   "metadata": {},
   "outputs": [],
   "source": [
    "df=pd.DataFrame(data, columns=['name', 'url'])\n",
    "url_list=df.values.tolist()\n",
    "\n",
    "print(url_list)"
   ]
  },
  {
   "cell_type": "code",
   "execution_count": 11,
   "metadata": {},
   "outputs": [
    {
     "name": "stdout",
     "output_type": "stream",
     "text": [
      "   cm  총장  어깨너비  가슴단면 소매길이\n",
      "0  XS  58    44    50   19\n",
      "1   S  67    48    52   22\n",
      "2   M  70  50.5  55.5   24\n",
      "3   L  72    52    58   25\n",
      "4  XL  74  53.5  60.5   26\n"
     ]
    }
   ],
   "source": [
    "url=url_list[1][1]\n",
    "\n",
    "page = requests.get(url, headers = headers)\n",
    "soup = bs(page.text, 'lxml')\n",
    "table = soup.find_all(attrs={'class':'table_th_grey'})\n",
    "\n",
    "#print(table)\n",
    "\n",
    "p = parser.make2d(table[0])\n",
    "df = pd.DataFrame(p[3:], columns=p[0])\n",
    "print(df)"
   ]
  },
  {
   "cell_type": "code",
   "execution_count": 30,
   "metadata": {},
   "outputs": [],
   "source": [
    "review_list=[]\n",
    "page = requests.get(url, headers = headers)\n",
    "soup = bs(page.text, 'lxml')\n",
    "\n",
    "i =0 \n",
    "\n",
    "while i >= 0:\n",
    "    try:\n",
    "        review = soup.find_all(attrs={'class':'size_content'})[i].get_text()\n",
    "        review_list.append(review.split())\n",
    "        i+=1\n",
    "    except:\n",
    "        break"
   ]
  },
  {
   "cell_type": "code",
   "execution_count": 34,
   "metadata": {},
   "outputs": [
    {
     "name": "stdout",
     "output_type": "stream",
     "text": [
      "['[회원추천]', '(여자', '169cm/53kg)', '기준', '적당함', 'M', 'Size', '구매']\n",
      "['[회원추천]', '(남자', '173cm/63kg)', '기준', '적당함', 'L', 'Size', '구매']\n",
      "['[회원추천]', '(여자', '160cm/45kg)', '기준', '적당함', 'S', 'Size', '구매']\n",
      "['[회원추천]', '(여자', '158cm/44kg)', '기준', '적당함', 'S', 'Size', '구매']\n",
      "['[회원추천]', '(여자', '170cm/75kg)', '기준', '큼', 'L', 'Size', '구매']\n",
      "['[회원추천]', '(여자', '165cm/55kg)', '기준', '적당함', 'S', 'Size', '구매']\n",
      "['[회원추천]', '(여자', '170cm/63kg)', '기준', '큼', 'XL', 'Size', '구매']\n",
      "['[회원추천]', '(여자', '158cm/50kg)', '기준', '적당함', 'S', 'Size', '구매']\n",
      "['[회원추천]', '(여자', '155cm/50kg)', '기준', '적당함', 'M', 'Size', '구매']\n",
      "['[회원추천]', '(여자', '163cm/50kg)', '기준', '적당함', 'L', 'Size', '구매']\n"
     ]
    }
   ],
   "source": [
    "for i in range(10):\n",
    "    print(review_list[i])"
   ]
  },
  {
   "cell_type": "code",
   "execution_count": null,
   "metadata": {},
   "outputs": [],
   "source": []
  }
 ],
 "metadata": {
  "kernelspec": {
   "display_name": "base",
   "language": "python",
   "name": "python3"
  },
  "language_info": {
   "codemirror_mode": {
    "name": "ipython",
    "version": 3
   },
   "file_extension": ".py",
   "mimetype": "text/x-python",
   "name": "python",
   "nbconvert_exporter": "python",
   "pygments_lexer": "ipython3",
   "version": "3.11.5"
  }
 },
 "nbformat": 4,
 "nbformat_minor": 2
}
