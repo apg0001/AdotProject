{
 "cells": [
  {
   "cell_type": "code",
   "execution_count": 1,
   "id": "ecbc5162",
   "metadata": {},
   "outputs": [],
   "source": [
    "import pandas as pd\n",
    "from bs4 import BeautifulSoup as bs\n",
    "import requests"
   ]
  },
  {
   "cell_type": "code",
   "execution_count": 6,
   "id": "6d97eab3",
   "metadata": {},
   "outputs": [],
   "source": [
    "#403 에러 방지\n",
    "headers={\"User-Agent\":\"Mozilla/5.0 (Macintosh; Intel Mac OS X 10_15_7) AppleWebKit/537.36 (KHTML, like Gecko) Chrome/117.0.0.0 Safari/537.36\"}"
   ]
  },
  {
   "cell_type": "code",
   "execution_count": null,
   "id": "822b2ced",
   "metadata": {},
   "outputs": [
    {
     "name": "stdout",
     "output_type": "stream",
     "text": [
      "https://www.musinsa.com/categories/item/001001?d_cat_cd=001001&brand=&list_kind=small&sort=pop_category&sub_sort=&page=1&display_cnt=90&group_sale=&exclusive_yn=&sale_goods=&timesale_yn=&ex_soldout=&plusDeliveryYn=&kids=&color=&price1=&price2=&shoeSizeOption=&tags=&campaign_id=&includeKeywords=&measure=\n",
      "2  / 100\n",
      "https://www.musinsa.com/categories/item/001001?d_cat_cd=001001&brand=&list_kind=small&sort=pop_category&sub_sort=&page=2&display_cnt=90&group_sale=&exclusive_yn=&sale_goods=&timesale_yn=&ex_soldout=&plusDeliveryYn=&kids=&color=&price1=&price2=&shoeSizeOption=&tags=&campaign_id=&includeKeywords=&measure=\n",
      "3  / 100\n",
      "https://www.musinsa.com/categories/item/001001?d_cat_cd=001001&brand=&list_kind=small&sort=pop_category&sub_sort=&page=3&display_cnt=90&group_sale=&exclusive_yn=&sale_goods=&timesale_yn=&ex_soldout=&plusDeliveryYn=&kids=&color=&price1=&price2=&shoeSizeOption=&tags=&campaign_id=&includeKeywords=&measure=\n",
      "4  / 100\n",
      "https://www.musinsa.com/categories/item/001001?d_cat_cd=001001&brand=&list_kind=small&sort=pop_category&sub_sort=&page=4&display_cnt=90&group_sale=&exclusive_yn=&sale_goods=&timesale_yn=&ex_soldout=&plusDeliveryYn=&kids=&color=&price1=&price2=&shoeSizeOption=&tags=&campaign_id=&includeKeywords=&measure=\n",
      "5  / 100\n",
      "https://www.musinsa.com/categories/item/001001?d_cat_cd=001001&brand=&list_kind=small&sort=pop_category&sub_sort=&page=5&display_cnt=90&group_sale=&exclusive_yn=&sale_goods=&timesale_yn=&ex_soldout=&plusDeliveryYn=&kids=&color=&price1=&price2=&shoeSizeOption=&tags=&campaign_id=&includeKeywords=&measure=\n",
      "6  / 100\n",
      "https://www.musinsa.com/categories/item/001001?d_cat_cd=001001&brand=&list_kind=small&sort=pop_category&sub_sort=&page=6&display_cnt=90&group_sale=&exclusive_yn=&sale_goods=&timesale_yn=&ex_soldout=&plusDeliveryYn=&kids=&color=&price1=&price2=&shoeSizeOption=&tags=&campaign_id=&includeKeywords=&measure=\n",
      "7  / 100\n",
      "https://www.musinsa.com/categories/item/001001?d_cat_cd=001001&brand=&list_kind=small&sort=pop_category&sub_sort=&page=7&display_cnt=90&group_sale=&exclusive_yn=&sale_goods=&timesale_yn=&ex_soldout=&plusDeliveryYn=&kids=&color=&price1=&price2=&shoeSizeOption=&tags=&campaign_id=&includeKeywords=&measure=\n",
      "8  / 100\n",
      "https://www.musinsa.com/categories/item/001001?d_cat_cd=001001&brand=&list_kind=small&sort=pop_category&sub_sort=&page=8&display_cnt=90&group_sale=&exclusive_yn=&sale_goods=&timesale_yn=&ex_soldout=&plusDeliveryYn=&kids=&color=&price1=&price2=&shoeSizeOption=&tags=&campaign_id=&includeKeywords=&measure=\n",
      "9  / 100\n",
      "https://www.musinsa.com/categories/item/001001?d_cat_cd=001001&brand=&list_kind=small&sort=pop_category&sub_sort=&page=9&display_cnt=90&group_sale=&exclusive_yn=&sale_goods=&timesale_yn=&ex_soldout=&plusDeliveryYn=&kids=&color=&price1=&price2=&shoeSizeOption=&tags=&campaign_id=&includeKeywords=&measure=\n",
      "10  / 100\n",
      "https://www.musinsa.com/categories/item/001001?d_cat_cd=001001&brand=&list_kind=small&sort=pop_category&sub_sort=&page=10&display_cnt=90&group_sale=&exclusive_yn=&sale_goods=&timesale_yn=&ex_soldout=&plusDeliveryYn=&kids=&color=&price1=&price2=&shoeSizeOption=&tags=&campaign_id=&includeKeywords=&measure=\n",
      "11  / 100\n",
      "https://www.musinsa.com/categories/item/001001?d_cat_cd=001001&brand=&list_kind=small&sort=pop_category&sub_sort=&page=11&display_cnt=90&group_sale=&exclusive_yn=&sale_goods=&timesale_yn=&ex_soldout=&plusDeliveryYn=&kids=&color=&price1=&price2=&shoeSizeOption=&tags=&campaign_id=&includeKeywords=&measure=\n",
      "12  / 100\n",
      "https://www.musinsa.com/categories/item/001001?d_cat_cd=001001&brand=&list_kind=small&sort=pop_category&sub_sort=&page=12&display_cnt=90&group_sale=&exclusive_yn=&sale_goods=&timesale_yn=&ex_soldout=&plusDeliveryYn=&kids=&color=&price1=&price2=&shoeSizeOption=&tags=&campaign_id=&includeKeywords=&measure=\n",
      "13  / 100\n",
      "https://www.musinsa.com/categories/item/001001?d_cat_cd=001001&brand=&list_kind=small&sort=pop_category&sub_sort=&page=13&display_cnt=90&group_sale=&exclusive_yn=&sale_goods=&timesale_yn=&ex_soldout=&plusDeliveryYn=&kids=&color=&price1=&price2=&shoeSizeOption=&tags=&campaign_id=&includeKeywords=&measure=\n",
      "14  / 100\n",
      "https://www.musinsa.com/categories/item/001001?d_cat_cd=001001&brand=&list_kind=small&sort=pop_category&sub_sort=&page=14&display_cnt=90&group_sale=&exclusive_yn=&sale_goods=&timesale_yn=&ex_soldout=&plusDeliveryYn=&kids=&color=&price1=&price2=&shoeSizeOption=&tags=&campaign_id=&includeKeywords=&measure=\n",
      "15  / 100\n",
      "https://www.musinsa.com/categories/item/001001?d_cat_cd=001001&brand=&list_kind=small&sort=pop_category&sub_sort=&page=15&display_cnt=90&group_sale=&exclusive_yn=&sale_goods=&timesale_yn=&ex_soldout=&plusDeliveryYn=&kids=&color=&price1=&price2=&shoeSizeOption=&tags=&campaign_id=&includeKeywords=&measure=\n",
      "16  / 100\n",
      "https://www.musinsa.com/categories/item/001001?d_cat_cd=001001&brand=&list_kind=small&sort=pop_category&sub_sort=&page=16&display_cnt=90&group_sale=&exclusive_yn=&sale_goods=&timesale_yn=&ex_soldout=&plusDeliveryYn=&kids=&color=&price1=&price2=&shoeSizeOption=&tags=&campaign_id=&includeKeywords=&measure=\n",
      "17  / 100\n",
      "https://www.musinsa.com/categories/item/001001?d_cat_cd=001001&brand=&list_kind=small&sort=pop_category&sub_sort=&page=17&display_cnt=90&group_sale=&exclusive_yn=&sale_goods=&timesale_yn=&ex_soldout=&plusDeliveryYn=&kids=&color=&price1=&price2=&shoeSizeOption=&tags=&campaign_id=&includeKeywords=&measure=\n",
      "18  / 100\n",
      "https://www.musinsa.com/categories/item/001001?d_cat_cd=001001&brand=&list_kind=small&sort=pop_category&sub_sort=&page=18&display_cnt=90&group_sale=&exclusive_yn=&sale_goods=&timesale_yn=&ex_soldout=&plusDeliveryYn=&kids=&color=&price1=&price2=&shoeSizeOption=&tags=&campaign_id=&includeKeywords=&measure=\n",
      "19  / 100\n",
      "https://www.musinsa.com/categories/item/001001?d_cat_cd=001001&brand=&list_kind=small&sort=pop_category&sub_sort=&page=19&display_cnt=90&group_sale=&exclusive_yn=&sale_goods=&timesale_yn=&ex_soldout=&plusDeliveryYn=&kids=&color=&price1=&price2=&shoeSizeOption=&tags=&campaign_id=&includeKeywords=&measure=\n",
      "20  / 100\n",
      "https://www.musinsa.com/categories/item/001001?d_cat_cd=001001&brand=&list_kind=small&sort=pop_category&sub_sort=&page=20&display_cnt=90&group_sale=&exclusive_yn=&sale_goods=&timesale_yn=&ex_soldout=&plusDeliveryYn=&kids=&color=&price1=&price2=&shoeSizeOption=&tags=&campaign_id=&includeKeywords=&measure=\n",
      "21  / 100\n",
      "https://www.musinsa.com/categories/item/001001?d_cat_cd=001001&brand=&list_kind=small&sort=pop_category&sub_sort=&page=21&display_cnt=90&group_sale=&exclusive_yn=&sale_goods=&timesale_yn=&ex_soldout=&plusDeliveryYn=&kids=&color=&price1=&price2=&shoeSizeOption=&tags=&campaign_id=&includeKeywords=&measure=\n",
      "22  / 100\n",
      "https://www.musinsa.com/categories/item/001001?d_cat_cd=001001&brand=&list_kind=small&sort=pop_category&sub_sort=&page=22&display_cnt=90&group_sale=&exclusive_yn=&sale_goods=&timesale_yn=&ex_soldout=&plusDeliveryYn=&kids=&color=&price1=&price2=&shoeSizeOption=&tags=&campaign_id=&includeKeywords=&measure=\n",
      "23  / 100\n",
      "https://www.musinsa.com/categories/item/001001?d_cat_cd=001001&brand=&list_kind=small&sort=pop_category&sub_sort=&page=23&display_cnt=90&group_sale=&exclusive_yn=&sale_goods=&timesale_yn=&ex_soldout=&plusDeliveryYn=&kids=&color=&price1=&price2=&shoeSizeOption=&tags=&campaign_id=&includeKeywords=&measure=\n",
      "24  / 100\n",
      "https://www.musinsa.com/categories/item/001001?d_cat_cd=001001&brand=&list_kind=small&sort=pop_category&sub_sort=&page=24&display_cnt=90&group_sale=&exclusive_yn=&sale_goods=&timesale_yn=&ex_soldout=&plusDeliveryYn=&kids=&color=&price1=&price2=&shoeSizeOption=&tags=&campaign_id=&includeKeywords=&measure=\n",
      "25  / 100\n",
      "https://www.musinsa.com/categories/item/001001?d_cat_cd=001001&brand=&list_kind=small&sort=pop_category&sub_sort=&page=25&display_cnt=90&group_sale=&exclusive_yn=&sale_goods=&timesale_yn=&ex_soldout=&plusDeliveryYn=&kids=&color=&price1=&price2=&shoeSizeOption=&tags=&campaign_id=&includeKeywords=&measure=\n",
      "26  / 100\n",
      "https://www.musinsa.com/categories/item/001001?d_cat_cd=001001&brand=&list_kind=small&sort=pop_category&sub_sort=&page=26&display_cnt=90&group_sale=&exclusive_yn=&sale_goods=&timesale_yn=&ex_soldout=&plusDeliveryYn=&kids=&color=&price1=&price2=&shoeSizeOption=&tags=&campaign_id=&includeKeywords=&measure=\n",
      "27  / 100\n",
      "https://www.musinsa.com/categories/item/001001?d_cat_cd=001001&brand=&list_kind=small&sort=pop_category&sub_sort=&page=27&display_cnt=90&group_sale=&exclusive_yn=&sale_goods=&timesale_yn=&ex_soldout=&plusDeliveryYn=&kids=&color=&price1=&price2=&shoeSizeOption=&tags=&campaign_id=&includeKeywords=&measure=\n"
     ]
    },
    {
     "name": "stdout",
     "output_type": "stream",
     "text": [
      "28  / 100\n",
      "https://www.musinsa.com/categories/item/001001?d_cat_cd=001001&brand=&list_kind=small&sort=pop_category&sub_sort=&page=28&display_cnt=90&group_sale=&exclusive_yn=&sale_goods=&timesale_yn=&ex_soldout=&plusDeliveryYn=&kids=&color=&price1=&price2=&shoeSizeOption=&tags=&campaign_id=&includeKeywords=&measure=\n",
      "29  / 100\n",
      "https://www.musinsa.com/categories/item/001001?d_cat_cd=001001&brand=&list_kind=small&sort=pop_category&sub_sort=&page=29&display_cnt=90&group_sale=&exclusive_yn=&sale_goods=&timesale_yn=&ex_soldout=&plusDeliveryYn=&kids=&color=&price1=&price2=&shoeSizeOption=&tags=&campaign_id=&includeKeywords=&measure=\n",
      "30  / 100\n",
      "https://www.musinsa.com/categories/item/001001?d_cat_cd=001001&brand=&list_kind=small&sort=pop_category&sub_sort=&page=30&display_cnt=90&group_sale=&exclusive_yn=&sale_goods=&timesale_yn=&ex_soldout=&plusDeliveryYn=&kids=&color=&price1=&price2=&shoeSizeOption=&tags=&campaign_id=&includeKeywords=&measure=\n",
      "31  / 100\n",
      "https://www.musinsa.com/categories/item/001001?d_cat_cd=001001&brand=&list_kind=small&sort=pop_category&sub_sort=&page=31&display_cnt=90&group_sale=&exclusive_yn=&sale_goods=&timesale_yn=&ex_soldout=&plusDeliveryYn=&kids=&color=&price1=&price2=&shoeSizeOption=&tags=&campaign_id=&includeKeywords=&measure=\n",
      "32  / 100\n",
      "https://www.musinsa.com/categories/item/001001?d_cat_cd=001001&brand=&list_kind=small&sort=pop_category&sub_sort=&page=32&display_cnt=90&group_sale=&exclusive_yn=&sale_goods=&timesale_yn=&ex_soldout=&plusDeliveryYn=&kids=&color=&price1=&price2=&shoeSizeOption=&tags=&campaign_id=&includeKeywords=&measure=\n"
     ]
    }
   ],
   "source": [
    "cat = {'반팔' : '001001'}\n",
    "selected_cat = '반팔'\n",
    "url_list=[]\n",
    "\n",
    "start = 1\n",
    "\n",
    "#url = 'https://www.musinsa.com/categories/item/' + cat[selected_cat]\n",
    "\n",
    "while start < 100:\n",
    "    url='https://www.musinsa.com/categories/item/{}?d_cat_cd={}&brand=&list_kind=small&sort=pop_category&sub_sort=&page={}&display_cnt=90&group_sale=&exclusive_yn=&sale_goods=&timesale_yn=&ex_soldout=&plusDeliveryYn=&kids=&color=&price1=&price2=&shoeSizeOption=&tags=&campaign_id=&includeKeywords=&measure='.format(cat[selected_cat], cat[selected_cat], start)\n",
    "    print(url)\n",
    "    \n",
    "    page = requests.get(url, headers = headers)\n",
    "    soup = bs(page.text, 'lxml')\n",
    "\n",
    "    for soup in soup.find_all('a', attrs={'class':'img-block'}):\n",
    "        url_list.append('https:'+soup['href'])\n",
    "    \n",
    "    print(start, \" / 100\")\n",
    "    start += 1"
   ]
  },
  {
   "cell_type": "code",
   "execution_count": 28,
   "id": "ca231a2f",
   "metadata": {},
   "outputs": [],
   "source": [
    "#카테고리별 크롤링한 url 저장\n",
    "\n",
    "df = pd.DataFrame({'url':url_list})\n",
    "file_name = selected_cat+'_url_list.csv'\n",
    "df.to_csv(file_name)"
   ]
  },
  {
   "cell_type": "code",
   "execution_count": 16,
   "id": "b2b400e5",
   "metadata": {},
   "outputs": [
    {
     "name": "stdout",
     "output_type": "stream",
     "text": [
      "['url' 'https://www.musinsa.com/app/goods/1220731'\n",
      " 'https://www.musinsa.com/app/goods/1149328' ...\n",
      " 'https://www.musinsa.com/app/goods/3075272'\n",
      " 'https://www.musinsa.com/app/goods/2978106'\n",
      " 'https://www.musinsa.com/app/goods/2778681']\n"
     ]
    }
   ],
   "source": [
    "data = pd.read_csv('무신사.csv', names=['name', 'url'])\n",
    "urls=data['url'].values\n",
    "print(urls)"
   ]
  },
  {
   "cell_type": "code",
   "execution_count": null,
   "id": "e0bac85a",
   "metadata": {},
   "outputs": [],
   "source": [
    "for u in urls:\n",
    "    #url = 'https://www.musinsa.com/app/goods/2368712'\n",
    "    url = u\n",
    "    page = requests.get(url, headers=headers)\n",
    "    soup = bs(page.text, 'lxml')\n",
    "    soup.find_all(attrs={'class':'table_th_grey'})"
   ]
  },
  {
   "cell_type": "code",
   "execution_count": null,
   "id": "89161849",
   "metadata": {},
   "outputs": [],
   "source": []
  },
  {
   "cell_type": "code",
   "execution_count": null,
   "id": "33d8a5cd",
   "metadata": {},
   "outputs": [],
   "source": []
  },
  {
   "cell_type": "code",
   "execution_count": null,
   "id": "c4d6b6c6",
   "metadata": {},
   "outputs": [],
   "source": []
  },
  {
   "cell_type": "code",
   "execution_count": null,
   "id": "59ce872a",
   "metadata": {},
   "outputs": [],
   "source": []
  }
 ],
 "metadata": {
  "kernelspec": {
   "display_name": "Python 3 (ipykernel)",
   "language": "python",
   "name": "python3"
  },
  "language_info": {
   "codemirror_mode": {
    "name": "ipython",
    "version": 3
   },
   "file_extension": ".py",
   "mimetype": "text/x-python",
   "name": "python",
   "nbconvert_exporter": "python",
   "pygments_lexer": "ipython3",
   "version": "3.11.5"
  },
  "varInspector": {
   "cols": {
    "lenName": 16,
    "lenType": 16,
    "lenVar": 40
   },
   "kernels_config": {
    "python": {
     "delete_cmd_postfix": "",
     "delete_cmd_prefix": "del ",
     "library": "var_list.py",
     "varRefreshCmd": "print(var_dic_list())"
    },
    "r": {
     "delete_cmd_postfix": ") ",
     "delete_cmd_prefix": "rm(",
     "library": "var_list.r",
     "varRefreshCmd": "cat(var_dic_list()) "
    }
   },
   "types_to_exclude": [
    "module",
    "function",
    "builtin_function_or_method",
    "instance",
    "_Feature"
   ],
   "window_display": false
  }
 },
 "nbformat": 4,
 "nbformat_minor": 5
}
